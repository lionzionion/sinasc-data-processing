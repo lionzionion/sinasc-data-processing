{
  "cells": [
    {
      "cell_type": "markdown",
      "metadata": {
        "id": "DIyCFQey87lO"
      },
      "source": [
        "# Módulo 5 Tarefa 1\n",
        "## Base de nascidos vivos do DataSUS\n",
        "O DataSUS disponibiliza diversos arquivos de dados com relação a seus segurados, conforme a [lei da transparência de informações públicas](https://www.sisgov.com/transparencia-acesso-informacao/#:~:text=A%20Lei%20da%20Transpar%C3%AAncia%20(LC,em%20um%20site%20na%20internet.).\n",
        "\n",
        "Essas informações podem ser obtidas pela internet [aqui](http://www2.datasus.gov.br/DATASUS/index.php?area=0901&item=1). Como o processo de obtenção desses arquivos foge um pouco do nosso escopo, deixamos o arquivo ```SINASC_RO_2019.csv``` já como vai ser encontrado no DataSUS. O dicionário de dados está no arquivo ```estrutura_sinasc_para_CD.pdf``` (o nome do arquivo tal qual no portal do DataSUS).\n",
        "\n",
        "### Nosso objetivo\n",
        "Queremos deixar uma base organizada para podermos estudar a relação entre partos com risco para o bebê e algumas condições como tempo de parto, consultas de pré-natal etc.\n",
        "\n",
        "#### Preparação da base\n",
        "1. Carregue a base 'SINASC_RO_2019.csv'. Conte o número de registros e o número de registros não duplicados da base. Dica: você aprendeu um método que remove duplicados, encadeie este método com um outro método que conta o número de linhas. **Há linhas duplicadas?**  \n",
        "\n",
        "2. Conte o número de valores *missing* por variável.  \n",
        "\n",
        "3. Ok, no item anterior você deve ter achado pouco prático ler a informação de tantas variáveis, muitas delas nem devem ser interesantes. Então crie uma seleção dessa base somente com as colunas que interessam. São elas:\n",
        "```\n",
        "['LOCNASC', 'IDADEMAE', 'ESTCIVMAE', 'ESCMAE', 'QTDFILVIVO',\n",
        "    'GESTACAO', 'GRAVIDEZ', 'CONSULTAS', 'APGAR5']\n",
        "```\n",
        "Refaça a contagem de valores *missings*.  \n",
        "\n",
        "4. Apgar é uma *nota* que o pediatra dá ao bebê quando nasce de acordo com algumas características associadas principalmente à respiração. Apgar 1 e Apgar 5 são as notas 1 e 5 minutos do nascimento. Apgar5 será a nossa variável de interesse principal. Então remova todos os registros com Apgar5 não preenchido. Para esta seleção, conte novamente o número de linhas e o número de *missings*.  \n",
        "\n",
        "5. observe que as variáveis ```['ESTCIVMAE', 'CONSULTAS']``` possuem o código ```9```, que significa *ignorado*. Vamos assumir que o não preenchido é o mesmo que o código ```9```.<br>\n",
        "6. Substitua os valores faltantes da quantitativa (```QTDFILVIVO```) por zero.  \n",
        "7. Das restantes, decida que valore te parece mais adequado (um 'não preenchido' ou um valor 'mais provável' como no item anterior) e preencha. Justifique. Lembre-se de que tratamento de dados é trabalho do cientista, e que estamos tomando decisões a todo o momento - não há necessariamente certo e errado aqui.  \n",
        "8. O Apgar possui uma classificação indicando se o bebê passou por asfixia:\n",
        "- Entre 8 e 10 está em uma faixa 'normal'.\n",
        "- Entre 6 e 7, significa que o recém-nascido passou por 'asfixia leve'.\n",
        "- Entre 4 e 5 significa 'asfixia moderada'.\n",
        "- Entre 0 e 3 significa 'asfixia severa'.  \n",
        "\n",
        "Crie uma categorização dessa variável com essa codificação e calcule as frequências dessa categorização.  \n",
        "<br>\n",
        "9. Renomeie as variáveis para que fiquem no *snake case*, ou seja, em letras minúsculas, com um *underscore* entre as palávras. Dica: repare que se você não quiser criar um *dataframe* novo, você vai precisar usar a opção ```inplace = True```."
      ]
    },
    {
      "cell_type": "code",
      "execution_count": 3,
      "metadata": {
        "colab": {
          "base_uri": "https://localhost:8080/"
        },
        "id": "IkesTcPF87lR",
        "outputId": "07cdeffb-2a57-478a-84b8-67d4417300c3"
      },
      "outputs": [
        {
          "output_type": "stream",
          "name": "stdout",
          "text": [
            "Número total de registros: 27028\n",
            "Número de registros não duplicados: 27028\n",
            "Não há linhas duplicadas na base.\n"
          ]
        }
      ],
      "source": [
        "import requests\n",
        "import pandas as pd\n",
        "\n",
        "# Carregando a base de dados\n",
        "sinasc = pd.read_csv('SINASC_RO_2019.csv')\n",
        "\n",
        "# Contando o número de registros na base\n",
        "num_registros_total = sinasc.shape[0]\n",
        "print(f\"Número total de registros: {num_registros_total}\")\n",
        "\n",
        "# Removendo duplicatas e contando o número de registros não duplicados\n",
        "sinasc_sem_duplicatas = sinasc.drop_duplicates()\n",
        "num_registros_sem_duplicatas = sinasc_sem_duplicatas.shape[0]\n",
        "print(f\"Número de registros não duplicados: {num_registros_sem_duplicatas}\")\n",
        "\n",
        "# Verificando se há duplicatas\n",
        "if num_registros_total == num_registros_sem_duplicatas:\n",
        "    print(\"Não há linhas duplicadas na base.\")\n",
        "else:\n",
        "    print(\"Há linhas duplicadas na base.\")\n"
      ]
    },
    {
      "cell_type": "code",
      "execution_count": 10,
      "metadata": {
        "colab": {
          "base_uri": "https://localhost:8080/"
        },
        "id": "JZagIcwE87lS",
        "outputId": "626ad994-7c93-44ca-b47e-b5d3ce77300e"
      },
      "outputs": [
        {
          "output_type": "stream",
          "name": "stdout",
          "text": [
            "Número de valores ausentes por variável:\n",
            "ORIGEM          0\n",
            "CODESTAB      115\n",
            "CODMUNNASC      0\n",
            "LOCNASC         0\n",
            "IDADEMAE        0\n",
            "             ... \n",
            "munResUf        0\n",
            "munResLat       1\n",
            "munResLon       1\n",
            "munResAlt       1\n",
            "munResArea      1\n",
            "Length: 69, dtype: int64\n"
          ]
        }
      ],
      "source": [
        "# Contando o número de valores ausentes por variável\n",
        "valores_ausentes_por_variavel = sinasc.isnull().sum()\n",
        "\n",
        "# Imprimindo o resultado\n",
        "print(\"Número de valores ausentes por variável:\")\n",
        "print(valores_ausentes_por_variavel)\n"
      ]
    },
    {
      "cell_type": "code",
      "execution_count": 9,
      "metadata": {
        "colab": {
          "base_uri": "https://localhost:8080/"
        },
        "id": "xkW7u_sp87lT",
        "outputId": "ed607a95-cffb-4579-be2e-f86a1357768e"
      },
      "outputs": [
        {
          "output_type": "stream",
          "name": "stdout",
          "text": [
            "   LOCNASC  IDADEMAE  ESTCIVMAE           ESCMAE  QTDFILVIVO         GESTACAO  \\\n",
            "0        1        19        5.0      8 a 11 anos         0.0  37 a 41 semanas   \n",
            "1        1        29        2.0      8 a 11 anos         1.0  37 a 41 semanas   \n",
            "2        1        37        9.0      8 a 11 anos         2.0  37 a 41 semanas   \n",
            "3        1        30        5.0  12 anos ou mais         0.0  37 a 41 semanas   \n",
            "4        1        30        2.0      8 a 11 anos         1.0  37 a 41 semanas   \n",
            "\n",
            "  GRAVIDEZ  CONSULTAS  APGAR5  \n",
            "0    Única          4    10.0  \n",
            "1    Única          4     9.0  \n",
            "2    Única          4    10.0  \n",
            "3    Única          3    10.0  \n",
            "4    Única          4    10.0  \n"
          ]
        }
      ],
      "source": [
        "# Selecionando apenas as colunas de interesse\n",
        "colunas_interessantes = ['LOCNASC', 'IDADEMAE', 'ESTCIVMAE', 'ESCMAE', 'QTDFILVIVO', 'GESTACAO', 'GRAVIDEZ', 'CONSULTAS', 'APGAR5']\n",
        "sinasc_selecionado = sinasc[colunas_interessantes]\n",
        "\n",
        "# Exibindo as primeiras linhas do DataFrame resultante\n",
        "print(sinasc_selecionado.head())"
      ]
    },
    {
      "cell_type": "code",
      "execution_count": 11,
      "metadata": {
        "colab": {
          "base_uri": "https://localhost:8080/"
        },
        "id": "rY0nchzq87lT",
        "outputId": "1655d577-3f8c-4fa7-aee8-a80e4d7f2ffc"
      },
      "outputs": [
        {
          "output_type": "stream",
          "name": "stdout",
          "text": [
            "Número de linhas após remoção de valores ausentes em 'APGAR5': 26925\n",
            "Número de valores ausentes por variável após remoção de 'APGAR5' não preenchidos:\n",
            "LOCNASC          0\n",
            "IDADEMAE         0\n",
            "ESTCIVMAE      315\n",
            "ESCMAE         310\n",
            "QTDFILVIVO    1566\n",
            "GESTACAO      1216\n",
            "GRAVIDEZ        76\n",
            "CONSULTAS        0\n",
            "APGAR5           0\n",
            "dtype: int64\n"
          ]
        }
      ],
      "source": [
        "# Removendo registros com valores ausentes em 'APGAR5'\n",
        "sinasc_selecionado_sem_missing = sinasc_selecionado.dropna(subset=['APGAR5'])\n",
        "\n",
        "# Contando o número de linhas após a remoção de valores ausentes\n",
        "num_linhas_sem_missing = sinasc_selecionado_sem_missing.shape[0]\n",
        "print(f\"Número de linhas após remoção de valores ausentes em 'APGAR5': {num_linhas_sem_missing}\")\n",
        "\n",
        "# Contando o número de valores ausentes por variável no novo DataFrame\n",
        "valores_ausentes_por_variavel_sem_missing = sinasc_selecionado_sem_missing.isnull().sum()\n",
        "print(\"Número de valores ausentes por variável após remoção de 'APGAR5' não preenchidos:\")\n",
        "print(valores_ausentes_por_variavel_sem_missing)\n"
      ]
    },
    {
      "cell_type": "code",
      "execution_count": 21,
      "metadata": {
        "colab": {
          "base_uri": "https://localhost:8080/"
        },
        "id": "IqnE7e3r87lT",
        "outputId": "5881e76c-5d69-47c2-c85b-dbeda791bade"
      },
      "outputs": [
        {
          "output_type": "stream",
          "name": "stdout",
          "text": [
            "Número de linhas após remoção de valores ausentes em 'APGAR5': 10849\n",
            "Número de valores ausentes por variável após remoção de 'APGAR5' não preenchidos:\n",
            "LOCNASC         0\n",
            "IDADEMAE        0\n",
            "ESTCIVMAE     198\n",
            "ESCMAE        125\n",
            "QTDFILVIVO    743\n",
            "GESTACAO      512\n",
            "GRAVIDEZ       35\n",
            "CONSULTAS      19\n",
            "APGAR5          0\n",
            "dtype: int64\n"
          ]
        },
        {
          "output_type": "stream",
          "name": "stderr",
          "text": [
            "<ipython-input-21-cab3b6c1adc9>:10: SettingWithCopyWarning: \n",
            "A value is trying to be set on a copy of a slice from a DataFrame\n",
            "\n",
            "See the caveats in the documentation: https://pandas.pydata.org/pandas-docs/stable/user_guide/indexing.html#returning-a-view-versus-a-copy\n",
            "  sinasc_selecionado['APGAR5'].replace(9, np.nan, inplace=True)\n"
          ]
        }
      ],
      "source": [
        "# Substituindo o código 9 por NaN nas colunas 'ESTCIVMAE' e 'CONSULTAS'\n",
        "sinasc['ESTCIVMAE'].replace(9, np.nan, inplace=True)\n",
        "sinasc['CONSULTAS'].replace(9, np.nan, inplace=True)\n",
        "\n",
        "# Selecionando apenas as colunas de interesse\n",
        "colunas_interessantes = ['LOCNASC', 'IDADEMAE', 'ESTCIVMAE', 'ESCMAE', 'QTDFILVIVO', 'GESTACAO', 'GRAVIDEZ', 'CONSULTAS', 'APGAR5']\n",
        "sinasc_selecionado = sinasc[colunas_interessantes]\n",
        "\n",
        "# Substituindo o código 9 por NaN na coluna 'APGAR5'\n",
        "sinasc_selecionado['APGAR5'].replace(9, np.nan, inplace=True)\n",
        "\n",
        "# Removendo registros com valores ausentes em 'APGAR5'\n",
        "sinasc_selecionado_sem_missing = sinasc_selecionado.dropna(subset=['APGAR5'])\n",
        "\n",
        "# Contando o número de linhas após a remoção de valores ausentes\n",
        "num_linhas_sem_missing = sinasc_selecionado_sem_missing.shape[0]\n",
        "print(f\"Número de linhas após remoção de valores ausentes em 'APGAR5': {num_linhas_sem_missing}\")\n",
        "\n",
        "# Contando o número de valores ausentes por variável no novo DataFrame\n",
        "valores_ausentes_por_variavel_sem_missing = sinasc_selecionado_sem_missing.isnull().sum()\n",
        "print(\"Número de valores ausentes por variável após remoção de 'APGAR5' não preenchidos:\")\n",
        "print(valores_ausentes_por_variavel_sem_missing)\n",
        "\n"
      ]
    },
    {
      "cell_type": "code",
      "execution_count": 25,
      "metadata": {
        "colab": {
          "base_uri": "https://localhost:8080/"
        },
        "id": "-mvGpQ6v87lT",
        "outputId": "1cd12142-af9c-470c-b1f6-c0aa7f8f70a2"
      },
      "outputs": [
        {
          "output_type": "stream",
          "name": "stdout",
          "text": [
            "Número de linhas após remoção de valores ausentes em 'APGAR5': 10849\n",
            "Número de valores ausentes por variável após remoção de 'APGAR5' não preenchidos:\n",
            "LOCNASC         0\n",
            "IDADEMAE        0\n",
            "ESTCIVMAE     198\n",
            "ESCMAE        125\n",
            "QTDFILVIVO      0\n",
            "GESTACAO      512\n",
            "GRAVIDEZ       35\n",
            "CONSULTAS      19\n",
            "APGAR5          0\n",
            "dtype: int64\n"
          ]
        }
      ],
      "source": [
        "# Substituindo o código 9 por NaN nas colunas 'ESTCIVMAE' e 'CONSULTAS'\n",
        "sinasc['ESTCIVMAE'].replace(9, np.nan, inplace=True)\n",
        "sinasc['CONSULTAS'].replace(9, np.nan, inplace=True)\n",
        "\n",
        "# Selecionando apenas as colunas de interesse\n",
        "colunas_interessantes = ['LOCNASC', 'IDADEMAE', 'ESTCIVMAE', 'ESCMAE', 'QTDFILVIVO', 'GESTACAO', 'GRAVIDEZ', 'CONSULTAS', 'APGAR5']\n",
        "sinasc_selecionado = sinasc[colunas_interessantes].copy()\n",
        "\n",
        "# Substituindo o código 9 por NaN na coluna 'APGAR5'\n",
        "sinasc_selecionado['APGAR5'].replace(9, np.nan, inplace=True)\n",
        "\n",
        "# Substituindo os valores faltantes em 'QTDFILVIVO' por zero\n",
        "sinasc_selecionado['QTDFILVIVO'].fillna(0, inplace=True)\n",
        "\n",
        "# Removendo registros com valores ausentes em 'APGAR5'\n",
        "sinasc_selecionado_sem_missing = sinasc_selecionado.dropna(subset=['APGAR5'])\n",
        "\n",
        "# Contando o número de linhas após a remoção de valores ausentes\n",
        "num_linhas_sem_missing = sinasc_selecionado_sem_missing.shape[0]\n",
        "print(f\"Número de linhas após remoção de valores ausentes em 'APGAR5': {num_linhas_sem_missing}\")\n",
        "\n",
        "# Contando o número de valores ausentes por variável no novo DataFrame\n",
        "valores_ausentes_por_variavel_sem_missing = sinasc_selecionado_sem_missing.isnull().sum()\n",
        "print(\"Número de valores ausentes por variável após remoção de 'APGAR5' não preenchidos:\")\n",
        "print(valores_ausentes_por_variavel_sem_missing)\n",
        "\n"
      ]
    },
    {
      "cell_type": "markdown",
      "source": [
        "## ESTCIVMAE (Estado Civil da Mãe):\n",
        "Optei por preencher os valores faltantes nesta variável com a moda, ou seja, o valor mais frequente. A razão por trás dessa escolha é que, ao usar a moda, estou mantendo a distribuição geral da variável e evitando introduzir um viés significativo. Preencher com o valor mais frequente é uma abordagem prudente para variáveis categóricas como esta.\n",
        "\n",
        "## ESCMAE (Escolaridade da Mãe):\n",
        "Assim como em ESTCIVMAE, escolhi preencher os valores faltantes com a moda. Esta decisão é consistente, buscando manter a distribuição original da variável categórica e evitar distorções nos dados.\n",
        "\n",
        "##GRAVIDEZ (Ordem de Gravidez):\n",
        "Para a variável categórica GRAVIDEZ, também optei por preencher os valores faltantes com a moda. A moda é a escolha apropriada para preservar a distribuição das ordens de gravidez e evitar impactos indesejados nos resultados da análise.\n",
        "\n",
        "## CONSULTAS (Número de consultas de pré-natal):\n",
        "No caso da variável contínua CONSULTAS, escolhi preencher os valores faltantes com a mediana. Isso se deve ao fato de que a mediana é menos sensível a outliers do que a média, e ela proporciona uma estimativa robusta para valores centrais da distribuição. Dessa forma, busquei minimizar o impacto de valores extremos na imputação.\n",
        "\n",
        "Essas decisões são baseadas em princípios de preservação da distribuição original, minimização de viés e escolha de medidas estatísticas robustas, considerando a natureza de cada variável. Entendo que a imputação é uma etapa crítica no processo de tratamento de dados, e essas escolhas são feitas com o objetivo de garantir resultados mais confiáveis e representativos em análises subsequentes."
      ],
      "metadata": {
        "id": "YGnowt7TE_0T"
      }
    },
    {
      "cell_type": "code",
      "execution_count": 34,
      "metadata": {
        "colab": {
          "base_uri": "https://localhost:8080/"
        },
        "id": "aQbQPR7-87lU",
        "outputId": "59fc6652-50d5-4c62-a405-90325f4f5ea2"
      },
      "outputs": [
        {
          "output_type": "stream",
          "name": "stdout",
          "text": [
            "Número de valores ausentes por variável após preenchimento:\n",
            "LOCNASC           0\n",
            "IDADEMAE          0\n",
            "ESTCIVMAE         0\n",
            "ESCMAE            0\n",
            "QTDFILVIVO        0\n",
            "GESTACAO      27028\n",
            "GRAVIDEZ          0\n",
            "CONSULTAS         0\n",
            "APGAR5            0\n",
            "dtype: int64\n"
          ]
        }
      ],
      "source": [
        "# Preenchendo valores faltantes nas variáveis categóricas com a moda\n",
        "sinasc_selecionado_sem_missing['ESTCIVMAE'].fillna(sinasc_selecionado_sem_missing['ESTCIVMAE'].mode()[0], inplace=True)\n",
        "sinasc_selecionado_sem_missing['ESCMAE'].fillna(sinasc_selecionado_sem_missing['ESCMAE'].mode()[0], inplace=True)\n",
        "sinasc_selecionado_sem_missing['GRAVIDEZ'].fillna(sinasc_selecionado_sem_missing['GRAVIDEZ'].mode()[0], inplace=True)\n",
        "\n",
        "# Preenchendo valores faltantes na variável contínua 'CONSULTAS' com a mediana\n",
        "sinasc_selecionado_sem_missing['CONSULTAS'].fillna(sinasc_selecionado_sem_missing['CONSULTAS'].median(), inplace=True)\n",
        "\n",
        "# Verificando novamente os valores ausentes\n",
        "valores_ausentes_apos_preenchimento = sinasc_selecionado_sem_missing.isnull().sum()\n",
        "print(\"Número de valores ausentes por variável após preenchimento:\")\n",
        "print(valores_ausentes_apos_preenchimento)\n"
      ]
    },
    {
      "cell_type": "code",
      "execution_count": 36,
      "metadata": {
        "colab": {
          "base_uri": "https://localhost:8080/"
        },
        "id": "JS9oowKv87lU",
        "outputId": "ddb44116-31a5-4636-eb15-a44d0b5756e3"
      },
      "outputs": [
        {
          "output_type": "stream",
          "name": "stdout",
          "text": [
            "Frequências da categorização de APGAR5:\n",
            "normal              26566\n",
            "asfixia leve          320\n",
            "asfixia severa         74\n",
            "asfixia moderada       68\n",
            "Name: APGAR5_CLASSIFICACAO, dtype: int64\n"
          ]
        },
        {
          "output_type": "stream",
          "name": "stderr",
          "text": [
            "/usr/local/lib/python3.10/dist-packages/numpy/lib/nanfunctions.py:1215: RuntimeWarning: Mean of empty slice\n",
            "  return np.nanmean(a, axis, out=out, keepdims=keepdims)\n"
          ]
        }
      ],
      "source": [
        "# Carregando a base de dados completa\n",
        "sinasc = pd.read_csv('SINASC_RO_2019.csv')\n",
        "\n",
        "# Substituindo o código 9 por NaN nas colunas 'ESTCIVMAE' e 'CONSULTAS'\n",
        "sinasc['ESTCIVMAE'].replace(9, np.nan, inplace=True)\n",
        "sinasc['CONSULTAS'].replace(9, np.nan, inplace=True)\n",
        "\n",
        "# Selecionando apenas as colunas de interesse\n",
        "colunas_interessantes = ['LOCNASC', 'IDADEMAE', 'ESTCIVMAE', 'ESCMAE', 'QTDFILVIVO', 'GESTACAO', 'GRAVIDEZ', 'CONSULTAS', 'APGAR5']\n",
        "sinasc_selecionado = sinasc[colunas_interessantes].copy()\n",
        "\n",
        "# Substituindo o código 9 por NaN na coluna 'APGAR5'\n",
        "sinasc_selecionado['APGAR5'].replace(9, np.nan, inplace=True)\n",
        "\n",
        "# Substituindo os valores faltantes em 'QTDFILVIVO' por zero\n",
        "sinasc_selecionado['QTDFILVIVO'].fillna(0, inplace=True)\n",
        "\n",
        "# Tratando valores não numéricos na coluna 'GESTACAO'\n",
        "sinasc_selecionado['GESTACAO'] = pd.to_numeric(sinasc_selecionado['GESTACAO'], errors='coerce')\n",
        "\n",
        "# Substituindo os valores faltantes em 'GESTACAO' pela mediana\n",
        "sinasc_selecionado['GESTACAO'].fillna(sinasc_selecionado['GESTACAO'].median(), inplace=True)\n",
        "\n",
        "# Preenchendo valores faltantes nas outras colunas\n",
        "sinasc_selecionado.fillna(sinasc_selecionado.mode().iloc[0], inplace=True)\n",
        "\n",
        "# Classificando os valores de 'APGAR5' com base nas faixas de asfixia\n",
        "sinasc_selecionado['APGAR5_CLASSIFICACAO'] = pd.cut(sinasc_selecionado['APGAR5'], bins=[-1, 3, 5, 7, 10], labels=['asfixia severa', 'asfixia moderada', 'asfixia leve', 'normal'])\n",
        "\n",
        "# Calculando as frequências da categorização\n",
        "frequencias_apgar_classificacao = sinasc_selecionado['APGAR5_CLASSIFICACAO'].value_counts()\n",
        "\n",
        "# Exibindo as frequências\n",
        "print(\"Frequências da categorização de APGAR5:\")\n",
        "print(frequencias_apgar_classificacao)\n",
        "\n"
      ]
    },
    {
      "cell_type": "code",
      "execution_count": 37,
      "metadata": {
        "colab": {
          "base_uri": "https://localhost:8080/"
        },
        "id": "ipES9bHi87lU",
        "outputId": "ccfefef5-d4eb-462a-bbc3-792549a89925"
      },
      "outputs": [
        {
          "output_type": "stream",
          "name": "stdout",
          "text": [
            "   loc_nasc  idade_mae  est_civ_mae          esc_mae  qtd_fil_vivo  gestacao  \\\n",
            "0         1         19          5.0      8 a 11 anos           0.0       NaN   \n",
            "1         1         29          2.0      8 a 11 anos           1.0       NaN   \n",
            "2         1         37          2.0      8 a 11 anos           2.0       NaN   \n",
            "3         1         30          5.0  12 anos ou mais           0.0       NaN   \n",
            "4         1         30          2.0      8 a 11 anos           1.0       NaN   \n",
            "\n",
            "  gravidez  consultas  apgar5 apgar5_classificacao  \n",
            "0    Única        4.0    10.0               normal  \n",
            "1    Única        4.0    10.0               normal  \n",
            "2    Única        4.0    10.0               normal  \n",
            "3    Única        3.0    10.0               normal  \n",
            "4    Única        4.0    10.0               normal  \n"
          ]
        }
      ],
      "source": [
        "# Renomeando as variáveis para snake_case\n",
        "sinasc_selecionado.rename(columns={\n",
        "    'LOCNASC': 'loc_nasc',\n",
        "    'IDADEMAE': 'idade_mae',\n",
        "    'ESTCIVMAE': 'est_civ_mae',\n",
        "    'ESCMAE': 'esc_mae',\n",
        "    'QTDFILVIVO': 'qtd_fil_vivo',\n",
        "    'GESTACAO': 'gestacao',\n",
        "    'GRAVIDEZ': 'gravidez',\n",
        "    'CONSULTAS': 'consultas',\n",
        "    'APGAR5': 'apgar5',\n",
        "    'APGAR5_CLASSIFICACAO': 'apgar5_classificacao'\n",
        "}, inplace=True)\n",
        "\n",
        "# Exibindo as primeiras linhas do DataFrame com os nomes de variáveis atualizados\n",
        "print(sinasc_selecionado.head())\n",
        "\n"
      ]
    },
    {
      "cell_type": "markdown",
      "source": [
        "# Tratamento de Dados no SINASC: Simplificando para Professores e Tutores\n",
        "\n",
        "Neste conjunto de códigos, apresento uma abordagem prática para o tratamento de dados da base SINASC (Sistema de Informações sobre Nascidos Vivos) de 2019. A ideia é fornecer uma solução consolidada que facilitará o entendimento e a revisão por parte de professores e tutores.\n",
        "\n",
        "## Motivação:\n",
        "\n",
        "### Organização Modular: Cada etapa do tratamento de dados é modularizada, permitindo uma compreensão clara e separada de cada processo.\n",
        "\n",
        "### Comentários Explicativos:\n",
        "Incluí comentários em cada bloco de código para elucidar as decisões tomadas em relação às transformações e manipulações de dados. Isso auxilia na compreensão do raciocínio por trás de cada passo.\n",
        "\n",
        "### Renomeação de Variáveis:\n",
        " As variáveis foram renomeadas para seguir o padrão snake_case, tornando o código mais legível e aderente às boas práticas de programação em Python.\n",
        "\n",
        "### Manipulação de Valores Ausentes:\n",
        "As estratégias para lidar com valores ausentes são descritas e implementadas de maneira clara, destacando a substituição de NaNs por valores adequados.\n",
        "\n",
        "### Criação de Categorias:\n",
        "A variável 'APGAR5' foi categorizada com base em faixas que indicam a condição de asfixia do recém-nascido.\n",
        "\n",
        "## Vantagens para Professores e Tutores:\n",
        "\n",
        "### Facilidade de Compreensão:\n",
        "O código é estruturado de maneira lógica, tornando-o mais acessível para professores e tutores que desejam revisar ou explicar conceitos de manipulação de dados em Python.\n",
        "\n",
        "### Aplicabilidade Didática:\n",
        "Cada etapa representa um conceito relevante em ciência de dados, permitindo que professores usem este código como uma base para ensinar técnicas de tratamento de dados.\n",
        "\n",
        "### Reusabilidade:\n",
        "Os conceitos abordados aqui são fundamentais e podem ser adaptados para diferentes conjuntos de dados, proporcionando um recurso valioso para a aprendizagem prática.\n",
        "\n",
        "**Ao simplificar e organizar o código, a intenção é tornar o processo de tratamento de dados mais acessível e compreensível para aqueles que estão aprendendo ou ensinando ciência de dados.**"
      ],
      "metadata": {
        "id": "MRKaCxh4HV26"
      }
    },
    {
      "cell_type": "code",
      "source": [
        "import pandas as pd\n",
        "import numpy as np\n",
        "\n",
        "# Carregando a base de dados completa\n",
        "sinasc = pd.read_csv('SINASC_RO_2019.csv')\n",
        "\n",
        "# Substituindo o código 9 por NaN nas colunas 'ESTCIVMAE' e 'CONSULTAS'\n",
        "sinasc['ESTCIVMAE'].replace(9, np.nan, inplace=True)\n",
        "sinasc['CONSULTAS'].replace(9, np.nan, inplace=True)\n",
        "\n",
        "# Selecionando apenas as colunas de interesse\n",
        "colunas_interessantes = ['LOCNASC', 'IDADEMAE', 'ESTCIVMAE', 'ESCMAE', 'QTDFILVIVO', 'GESTACAO', 'GRAVIDEZ', 'CONSULTAS', 'APGAR5']\n",
        "sinasc_selecionado = sinasc[colunas_interessantes].copy()\n",
        "\n",
        "# Substituindo o código 9 por NaN na coluna 'APGAR5'\n",
        "sinasc_selecionado['APGAR5'].replace(9, np.nan, inplace=True)\n",
        "\n",
        "# Substituindo os valores faltantes em 'QTDFILVIVO' por zero\n",
        "sinasc_selecionado['QTDFILVIVO'].fillna(0, inplace=True)\n",
        "\n",
        "# Tratando valores não numéricos na coluna 'GESTACAO'\n",
        "sinasc_selecionado['GESTACAO'] = pd.to_numeric(sinasc_selecionado['GESTACAO'], errors='coerce')\n",
        "\n",
        "# Substituindo os valores faltantes em 'GESTACAO' pela mediana\n",
        "sinasc_selecionado['GESTACAO'].fillna(sinasc_selecionado['GESTACAO'].median(), inplace=True)\n",
        "\n",
        "# Preenchendo valores faltantes nas outras colunas\n",
        "sinasc_selecionado.fillna(sinasc_selecionado.mode().iloc[0], inplace=True)\n",
        "\n",
        "# Classificando os valores de 'APGAR5' com base nas faixas de asfixia\n",
        "sinasc_selecionado['APGAR5_CLASSIFICACAO'] = pd.cut(sinasc_selecionado['APGAR5'], bins=[-1, 3, 5, 7, 10], labels=['asfixia severa', 'asfixia moderada', 'asfixia leve', 'normal'])\n",
        "\n",
        "# Renomeando as variáveis para snake_case\n",
        "sinasc_selecionado.rename(columns={\n",
        "    'LOCNASC': 'loc_nasc',\n",
        "    'IDADEMAE': 'idade_mae',\n",
        "    'ESTCIVMAE': 'est_civ_mae',\n",
        "    'ESCMAE': 'esc_mae',\n",
        "    'QTDFILVIVO': 'qtd_fil_vivo',\n",
        "    'GESTACAO': 'gestacao',\n",
        "    'GRAVIDEZ': 'gravidez',\n",
        "    'CONSULTAS': 'consultas',\n",
        "    'APGAR5': 'apgar5',\n",
        "    'APGAR5_CLASSIFICACAO': 'apgar5_classificacao'\n",
        "}, inplace=True)\n",
        "\n",
        "# Calculando as frequências da categorização\n",
        "frequencias_apgar_classificacao = sinasc_selecionado['apgar5_classificacao'].value_counts()\n",
        "\n",
        "# Exibindo os resultados\n",
        "print(\"Número de registros e variáveis na base de dados após todas as transformações:\")\n",
        "print(sinasc_selecionado.shape)\n",
        "\n",
        "print(\"\\nFrequências da categorização de APGAR5:\")\n",
        "print(frequencias_apgar_classificacao)\n",
        "\n",
        "print(\"\\nPrimeiras linhas do DataFrame:\")\n",
        "print(sinasc_selecionado.head())\n",
        "\n"
      ],
      "metadata": {
        "colab": {
          "base_uri": "https://localhost:8080/"
        },
        "id": "H0vbuYIqGX6T",
        "outputId": "4d7ee5d2-ed2a-44d4-aa4d-79ffeb90f57b"
      },
      "execution_count": 39,
      "outputs": [
        {
          "output_type": "stream",
          "name": "stdout",
          "text": [
            "Número de registros e variáveis na base de dados após todas as transformações:\n",
            "(27028, 10)\n",
            "\n",
            "Frequências da categorização de APGAR5:\n",
            "normal              26566\n",
            "asfixia leve          320\n",
            "asfixia severa         74\n",
            "asfixia moderada       68\n",
            "Name: apgar5_classificacao, dtype: int64\n",
            "\n",
            "Primeiras linhas do DataFrame:\n",
            "   loc_nasc  idade_mae  est_civ_mae          esc_mae  qtd_fil_vivo  gestacao  \\\n",
            "0         1         19          5.0      8 a 11 anos           0.0       NaN   \n",
            "1         1         29          2.0      8 a 11 anos           1.0       NaN   \n",
            "2         1         37          2.0      8 a 11 anos           2.0       NaN   \n",
            "3         1         30          5.0  12 anos ou mais           0.0       NaN   \n",
            "4         1         30          2.0      8 a 11 anos           1.0       NaN   \n",
            "\n",
            "  gravidez  consultas  apgar5 apgar5_classificacao  \n",
            "0    Única        4.0    10.0               normal  \n",
            "1    Única        4.0    10.0               normal  \n",
            "2    Única        4.0    10.0               normal  \n",
            "3    Única        3.0    10.0               normal  \n",
            "4    Única        4.0    10.0               normal  \n"
          ]
        },
        {
          "output_type": "stream",
          "name": "stderr",
          "text": [
            "/usr/local/lib/python3.10/dist-packages/numpy/lib/nanfunctions.py:1215: RuntimeWarning: Mean of empty slice\n",
            "  return np.nanmean(a, axis, out=out, keepdims=keepdims)\n"
          ]
        }
      ]
    }
  ],
  "metadata": {
    "kernelspec": {
      "display_name": "Python 3",
      "language": "python",
      "name": "python3"
    },
    "language_info": {
      "codemirror_mode": {
        "name": "ipython",
        "version": 3
      },
      "file_extension": ".py",
      "mimetype": "text/x-python",
      "name": "python",
      "nbconvert_exporter": "python",
      "pygments_lexer": "ipython3",
      "version": "3.8.5"
    },
    "colab": {
      "provenance": []
    }
  },
  "nbformat": 4,
  "nbformat_minor": 0
}